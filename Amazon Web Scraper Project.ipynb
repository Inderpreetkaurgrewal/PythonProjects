{
 "cells": [
  {
   "cell_type": "code",
   "execution_count": 1,
   "id": "734096ad",
   "metadata": {},
   "outputs": [],
   "source": [
    "from bs4 import BeautifulSoup\n",
    "import requests\n",
    "import smtplib\n",
    "import time\n",
    "import datetime"
   ]
  },
  {
   "cell_type": "code",
   "execution_count": 38,
   "id": "fef6d3b0",
   "metadata": {},
   "outputs": [
    {
     "name": "stdout",
     "output_type": "stream",
     "text": [
      "\n",
      "                 Data Encoder I Love Statistics Data Science Data Analysts T-Shirt, Long Sleeve Shirt, Sweatshirt, Hoodie\n",
      "                \n",
      "\n",
      "\n",
      "\n",
      "\n",
      "\n",
      "                     $\n",
      "                    \n",
      "\n",
      "                     27\n",
      "                     \n",
      "                      .\n",
      "                     \n",
      "\n",
      "\n",
      "                     99\n",
      "                    \n",
      "\n",
      "\n"
     ]
    }
   ],
   "source": [
    "URL = 'https://www.amazon.ca/Encoder-Statistics-Science-Analysts-Sweatshirt/dp/B0CK6BV2WF/ref=sr_1_52?crid=39YWBFJE9P8O5&keywords=data%2Banalyst%2Bshirt&qid=1700783757&sprefix=data%2Banalyst%2Bshirt%2Caps%2C104&sr=8-52'    \n",
    "headers = {\"user_agent\" : \"Mozilla/5.0 (Windows NT 10.0; Win64; x64) AppleWebKit/537.36 (KHTML, like Gecko) Chrome/96.0.4664.45 Safari/537.36\"}\n",
    "\n",
    "page = requests.get(URL, headers = headers)\n",
    "\n",
    "soup1 = BeautifulSoup(page.content, \"html.parser\")\n",
    "soup2 = BeautifulSoup(soup1.prettify(),\"html.parser\")\n",
    "\n",
    "title = soup2.find(id = 'productTitle').get_text()\n",
    "\n",
    "price = soup2.find(class_ = 'a-price aok-align-center reinventPricePriceToPayMargin priceToPay').get_text()\n",
    "\n",
    "print(title)\n",
    "print(price)\n",
    "\n",
    "\n",
    "\n",
    "\n",
    "\n",
    "\n",
    "\n",
    "#print(title)\n"
   ]
  },
  {
   "cell_type": "code",
   "execution_count": 39,
   "id": "92a4ca2b",
   "metadata": {},
   "outputs": [],
   "source": [
    "price = price.strip()[1:]"
   ]
  },
  {
   "cell_type": "code",
   "execution_count": 40,
   "id": "5f4ee993",
   "metadata": {},
   "outputs": [
    {
     "name": "stdout",
     "output_type": "stream",
     "text": [
      "Data Encoder I Love Statistics Data Science Data Analysts T-Shirt, Long Sleeve Shirt, Sweatshirt, Hoodie\n",
      "27.99\n"
     ]
    }
   ],
   "source": [
    "price = price.replace('\\n','').replace(' ','')\n",
    "title = title.strip()\n",
    "print(title)\n",
    "print(price)"
   ]
  },
  {
   "cell_type": "code",
   "execution_count": 44,
   "id": "da5e5d92",
   "metadata": {},
   "outputs": [
    {
     "name": "stdout",
     "output_type": "stream",
     "text": [
      "2023-11-23\n"
     ]
    }
   ],
   "source": [
    "import datetime\n",
    "\n",
    "today = datetime.date.today()\n",
    "print(today)\n",
    "\n",
    "\n",
    "\n"
   ]
  },
  {
   "cell_type": "code",
   "execution_count": 34,
   "id": "758eb367",
   "metadata": {},
   "outputs": [
    {
     "data": {
      "text/plain": [
       "str"
      ]
     },
     "execution_count": 34,
     "metadata": {},
     "output_type": "execute_result"
    }
   ],
   "source": [
    "type(price)"
   ]
  },
  {
   "cell_type": "code",
   "execution_count": 46,
   "id": "ad76d98b",
   "metadata": {},
   "outputs": [],
   "source": [
    "import csv\n",
    "\n",
    "header = ['Title', 'Price','Date']\n",
    "data  = [title,price, today]\n",
    "type('data')\n",
    "\n",
    "\n",
    "with open (\"AmazonWebScraperDataSet.csv\", 'w', newline ='', encoding = 'UTF8') as f:\n",
    "    writer = csv.writer(f)\n",
    "    writer.writerow(header)\n",
    "    writer.writerow(data)\n",
    "    \n",
    "\n",
    "\n",
    "\n",
    "\n"
   ]
  },
  {
   "cell_type": "code",
   "execution_count": 50,
   "id": "e47af58c",
   "metadata": {},
   "outputs": [
    {
     "name": "stdout",
     "output_type": "stream",
     "text": [
      "                                               Title  Price        Date\n",
      "0  Data Encoder I Love Statistics Data Science Da...  27.99  2023-11-23\n",
      "1  Data Encoder I Love Statistics Data Science Da...  27.99  2023-11-23\n",
      "2  Data Encoder I Love Statistics Data Science Da...  27.99  2023-11-23\n"
     ]
    }
   ],
   "source": [
    "import pandas as pd\n",
    "df = pd.read_csv(r'C:\\Users\\kinde\\AmazonWebScraperDataSet.csv')\n",
    "print(df)\n",
    "\n",
    "\n",
    "\n",
    "\n",
    "\n",
    "\n",
    "\n"
   ]
  },
  {
   "cell_type": "code",
   "execution_count": 49,
   "id": "e72342a9",
   "metadata": {},
   "outputs": [],
   "source": [
    "# Now we are appending data to the csv \n",
    "with open (\"AmazonWebScraperDataSet.csv\", 'a+', newline ='', encoding = 'UTF8') as f:\n",
    "    writer = csv.writer(f)\n",
    "    writer.writerow(data)\n",
    "    \n",
    "\n",
    "    "
   ]
  },
  {
   "cell_type": "code",
   "execution_count": 59,
   "id": "03a3627e",
   "metadata": {},
   "outputs": [],
   "source": [
    "\n",
    "def check_price():\n",
    "    URL = 'https://www.amazon.ca/Encoder-Statistics-Science-Analysts-Sweatshirt/dp/B0CK6BV2WF/ref=sr_1_52?crid=39YWBFJE9P8O5&keywords=data%2Banalyst%2Bshirt&qid=1700783757&sprefix=data%2Banalyst%2Bshirt%2Caps%2C104&sr=8-52'    \n",
    "    headers = {\"user_agent\" : \"Mozilla/5.0 (Windows NT 10.0; Win64; x64) AppleWebKit/537.36 (KHTML, like Gecko) Chrome/96.0.4664.45 Safari/537.36\"}\n",
    "\n",
    "    page = requests.get(URL, headers = headers)\n",
    "\n",
    "    soup1 = BeautifulSoup(page.content, \"html.parser\")\n",
    "    soup2 = BeautifulSoup(soup1.prettify(),\"html.parser\")\n",
    "\n",
    "    title = soup2.find(id = 'productTitle').get_text()\n",
    "\n",
    "    price = soup2.find(class_ = 'a-price aok-align-center reinventPricePriceToPayMargin priceToPay').get_text()\n",
    "\n",
    "    price = price.strip()[1:]\n",
    "    price = price.replace('\\n','').replace(' ','')\n",
    "    title = title.strip()\n",
    "    \n",
    "    import datetime\n",
    "\n",
    "    today = datetime.date.today()\n",
    "    print(today)\n",
    "    import csv\n",
    "\n",
    "    header = ['Title', 'Price','Date']\n",
    "    data  = [title,price, today]\n",
    "    type('data')\n",
    "    with open (\"AmazonWebScraperDataSet.csv\", 'a+', newline ='', encoding = 'UTF8') as f:\n",
    "        writer = csv.writer(f)\n",
    "        writer.writerow(data)\n",
    "    \n",
    "    if(price < 14):\n",
    "        send_mail()\n",
    "    \n",
    "\n",
    "\n",
    "\n",
    "\n",
    "    "
   ]
  },
  {
   "cell_type": "code",
   "execution_count": null,
   "id": "0fc1d37d",
   "metadata": {},
   "outputs": [
    {
     "name": "stdout",
     "output_type": "stream",
     "text": [
      "2023-11-23\n"
     ]
    }
   ],
   "source": [
    "while(True):\n",
    "    check_price()\n",
    "    time.sleep(84600)"
   ]
  },
  {
   "cell_type": "code",
   "execution_count": 61,
   "id": "d45b1553",
   "metadata": {},
   "outputs": [
    {
     "name": "stdout",
     "output_type": "stream",
     "text": [
      "                                                Title  Price        Date\n",
      "0   Data Encoder I Love Statistics Data Science Da...  27.99  2023-11-23\n",
      "1   Data Encoder I Love Statistics Data Science Da...  27.99  2023-11-23\n",
      "2   Data Encoder I Love Statistics Data Science Da...  27.99  2023-11-23\n",
      "3   Data Encoder I Love Statistics Data Science Da...  27.99  2023-11-23\n",
      "4   Data Encoder I Love Statistics Data Science Da...  27.99  2023-11-23\n",
      "5   Data Encoder I Love Statistics Data Science Da...  27.99  2023-11-23\n",
      "6   Data Encoder I Love Statistics Data Science Da...  27.99  2023-11-23\n",
      "7   Data Encoder I Love Statistics Data Science Da...  27.99  2023-11-23\n",
      "8   Data Encoder I Love Statistics Data Science Da...  27.99  2023-11-23\n",
      "9   Data Encoder I Love Statistics Data Science Da...  27.99  2023-11-23\n",
      "10  Data Encoder I Love Statistics Data Science Da...  27.99  2023-11-23\n",
      "11  Data Encoder I Love Statistics Data Science Da...  27.99  2023-11-23\n",
      "12  Data Encoder I Love Statistics Data Science Da...  27.99  2023-11-23\n",
      "13  Data Encoder I Love Statistics Data Science Da...  27.99  2023-11-23\n",
      "14  Data Encoder I Love Statistics Data Science Da...  27.99  2023-11-23\n",
      "15  Data Encoder I Love Statistics Data Science Da...  27.99  2023-11-23\n",
      "16  Data Encoder I Love Statistics Data Science Da...  27.99  2023-11-23\n",
      "17  Data Encoder I Love Statistics Data Science Da...  27.99  2023-11-23\n",
      "18  Data Encoder I Love Statistics Data Science Da...  27.99  2023-11-23\n",
      "19  Data Encoder I Love Statistics Data Science Da...  27.99  2023-11-23\n"
     ]
    }
   ],
   "source": [
    "import pandas as pd\n",
    "df = pd.read_csv(r'C:\\Users\\kinde\\AmazonWebScraperDataSet.csv')\n",
    "print(df)"
   ]
  },
  {
   "cell_type": "code",
   "execution_count": null,
   "id": "30249864",
   "metadata": {},
   "outputs": [],
   "source": [
    "def send_mail():\n",
    "    server = smtplib.SMTP_SSL('smtp.gmail.com',465)\n",
    "    server.ehlo()\n",
    "    #server.starttls()\n",
    "    server.ehlo()\n",
    "    server.login('preetgrewal1833@gmail.com','xxxxxxxxxxxxxx')\n",
    "    \n",
    "    subject = \"The Shirt you want is below $15! Now is your chance to buy!\"\n",
    "    body = \"Inder, This is the moment we have been waiting for. Now is your chance to pick up the shirt of your dreams. Don't mess it up! Link here: https://www.amazon.com/Funny-Data-Systems-Business-Analyst/dp/B07FNW9FGJ/ref=sr_1_3?dchild=1&keywords=data+analyst+tshirt&qid=1626655184&sr=8-3\"\n",
    "   \n",
    "    msg = f\"Subject: {subject}\\n\\n{body}\"\n",
    "    \n",
    "    server.sendmail(\n",
    "        'preetgrewal1833@gmail.com',\n",
    "        msg\n",
    "     \n",
    "    )"
   ]
  }
 ],
 "metadata": {
  "kernelspec": {
   "display_name": "Python 3 (ipykernel)",
   "language": "python",
   "name": "python3"
  },
  "language_info": {
   "codemirror_mode": {
    "name": "ipython",
    "version": 3
   },
   "file_extension": ".py",
   "mimetype": "text/x-python",
   "name": "python",
   "nbconvert_exporter": "python",
   "pygments_lexer": "ipython3",
   "version": "3.11.5"
  }
 },
 "nbformat": 4,
 "nbformat_minor": 5
}
