{
 "cells": [
  {
   "cell_type": "markdown",
   "id": "8aeccdf8",
   "metadata": {},
   "source": [
    "# BMI Calculator"
   ]
  },
  {
   "cell_type": "code",
   "execution_count": 1,
   "id": "ce6e007f",
   "metadata": {},
   "outputs": [
    {
     "name": "stdout",
     "output_type": "stream",
     "text": [
      "Inderpreet\n"
     ]
    }
   ],
   "source": [
    "weight = input()\n"
   ]
  },
  {
   "cell_type": "code",
   "execution_count": 2,
   "id": "7f029ad3",
   "metadata": {},
   "outputs": [
    {
     "name": "stdout",
     "output_type": "stream",
     "text": [
      "Inderpreet\n"
     ]
    }
   ],
   "source": [
    "print(weight)"
   ]
  },
  {
   "cell_type": "code",
   "execution_count": 11,
   "id": "dd34fd7e",
   "metadata": {},
   "outputs": [
    {
     "name": "stdout",
     "output_type": "stream",
     "text": [
      "Enter your weight in pounds: 119\n",
      "Enter your height in inches: 64\n",
      "20.424072265625\n"
     ]
    }
   ],
   "source": [
    "weight = int( input(\"Enter your weight in pounds: \"))\n",
    "height = int(input(\"Enter your height in inches: \"))\n",
    "BMI = (weight * 703)/(height  * height )\n",
    "print(BMI)"
   ]
  },
  {
   "cell_type": "code",
   "execution_count": 8,
   "id": "a633e682",
   "metadata": {},
   "outputs": [
    {
     "data": {
      "text/plain": [
       "str"
      ]
     },
     "execution_count": 8,
     "metadata": {},
     "output_type": "execute_result"
    }
   ],
   "source": [
    "type(height)"
   ]
  },
  {
   "cell_type": "code",
   "execution_count": 9,
   "id": "94a04d4c",
   "metadata": {},
   "outputs": [
    {
     "data": {
      "text/plain": [
       "str"
      ]
     },
     "execution_count": 9,
     "metadata": {},
     "output_type": "execute_result"
    }
   ],
   "source": [
    "type(weight)"
   ]
  },
  {
   "cell_type": "code",
   "execution_count": null,
   "id": "c15d113a",
   "metadata": {},
   "outputs": [],
   "source": []
  },
  {
   "cell_type": "code",
   "execution_count": 6,
   "id": "67bd0444",
   "metadata": {},
   "outputs": [
    {
     "name": "stdout",
     "output_type": "stream",
     "text": [
      "170\n"
     ]
    }
   ],
   "source": [
    "print(weight)"
   ]
  },
  {
   "cell_type": "code",
   "execution_count": null,
   "id": "47b79405",
   "metadata": {},
   "outputs": [],
   "source": []
  },
  {
   "cell_type": "code",
   "execution_count": null,
   "id": "5c664fcf",
   "metadata": {},
   "outputs": [],
   "source": [
    "#BMI = (weight in pounds x 703) / (height in inches  x height in inches)"
   ]
  },
  {
   "cell_type": "code",
   "execution_count": null,
   "id": "14b2a9a3",
   "metadata": {},
   "outputs": [],
   "source": [
    "Under 18.5  underweight\n",
    "18.5 - 24.9 Normal weight\n",
    "25 - 29.9 overweight\n",
    "30 -34.9 obese\n",
    "35 - 39.9 Severly Obese\n",
    "40 and above over Morbidly Obese"
   ]
  },
  {
   "cell_type": "code",
   "execution_count": 18,
   "id": "9888db4d",
   "metadata": {},
   "outputs": [
    {
     "name": "stdout",
     "output_type": "stream",
     "text": [
      "Enter your nameInderpreet\n",
      "Enter your weight in pounds: 170\n",
      "Enter your height in inches: 69\n",
      "25.101869355177485\n",
      "InderpreetYou are overweight\n"
     ]
    }
   ],
   "source": [
    "name = input(\"Enter your name\")\n",
    "weight = int( input(\"Enter your weight in pounds: \"))\n",
    "height = int(input(\"Enter your height in inches: \"))\n",
    "BMI = (weight * 703)/(height  * height )\n",
    "print(BMI)\n",
    "\n",
    "\n",
    "if BMI >0 :\n",
    "    if (BMI < 18.5):\n",
    "        print( name +\"You are Underweight\")\n",
    "    elif (BMI <= 24.9):\n",
    "        print(name +\"You are Normal Weight\")\n",
    "    elif (BMI < 29.9):\n",
    "        print( name +\"You are overweight\")\n",
    "    elif (BMI < 34.9):\n",
    "        print(name +\"You are obese\")\n",
    "    elif (BMI < 39.9):\n",
    "        print(name +\"You are Severly Obese\")\n",
    "    else:\n",
    "        print(\"You are mobidly Obese\")\n",
    "else:\n",
    "    print(\"Enter valid input\")"
   ]
  },
  {
   "cell_type": "code",
   "execution_count": null,
   "id": "1c7f8014",
   "metadata": {},
   "outputs": [],
   "source": []
  },
  {
   "cell_type": "code",
   "execution_count": null,
   "id": "8a17692e",
   "metadata": {},
   "outputs": [],
   "source": []
  }
 ],
 "metadata": {
  "kernelspec": {
   "display_name": "Python 3 (ipykernel)",
   "language": "python",
   "name": "python3"
  },
  "language_info": {
   "codemirror_mode": {
    "name": "ipython",
    "version": 3
   },
   "file_extension": ".py",
   "mimetype": "text/x-python",
   "name": "python",
   "nbconvert_exporter": "python",
   "pygments_lexer": "ipython3",
   "version": "3.11.5"
  }
 },
 "nbformat": 4,
 "nbformat_minor": 5
}
